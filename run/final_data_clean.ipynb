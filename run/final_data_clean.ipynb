{
 "cells": [
  {
   "cell_type": "code",
   "execution_count": 61,
   "id": "b6a89eef",
   "metadata": {},
   "outputs": [],
   "source": [
    "import duckdb\n",
    "import polars as pl"
   ]
  },
  {
   "cell_type": "code",
   "execution_count": null,
   "id": "eb827886",
   "metadata": {},
   "outputs": [],
   "source": [
    "# Path to DuckDB file\n",
    "basepath = \"Set where your data is stored\"\n",
    "\n",
    "# Scan Parquet lazily (no data loaded yet)\n",
    "orig_df = pl.scan_parquet(f\"{basepath}/origination.parquet\")\n",
    "perf_df = pl.scan_parquet(f\"{basepath}/performance.parquet\")\n",
    "unemp_data = pl.scan_parquet(f\"{basepath}/state_unemp.parquet\")\n",
    "\n",
    "orig_small = orig_df.select(\n",
    "    \"LOAN_SEQUENCE_NUMBER\",\n",
    "    \"ORIGINAL_LOAN_TERM\",\n",
    "    \"FIRST_PAYMENT_DATE\",\n",
    "    \"ORIGINAL_INTEREST_RATE\",\n",
    "    \"ORIGINAL_LOAN_TO_VALUE\",\n",
    "    \"PROPERTY_STATE\",\n",
    "    \"MATURITY_DATE\",\n",
    "    \"ORIGINAL_DEBT_TO_INCOME\",\n",
    "    \"CREDIT_SCORE\"\n",
    ")\n",
    "\n",
    "perf_small = perf_df.select(\n",
    "    \"LOAN_SEQUENCE_NUMBER\",\n",
    "    \"LOAN_AGE\",\n",
    "    \"MONTHLY_REPORTING_PERIOD\",\n",
    "    \"ESTIMATED_LOAN_TO_VALUE\",\n",
    "    \"CURRENT_INTEREST_RATE\",\n",
    "    \"ZERO_BALANCE_CODE\",\n",
    "    \"ZERO_BALANCE_EFFECTIVE_DATE\",\n",
    "    \"CURRENT_LOAN_DELINQUENCY_STATUS\"\n",
    ")"
   ]
  },
  {
   "cell_type": "code",
   "execution_count": 63,
   "id": "83b7e302",
   "metadata": {},
   "outputs": [],
   "source": [
    "unemp_data = unemp_data.with_columns(\n",
    "    (pl.col(\"date\").dt.strftime(\"%Y%m\")).alias(\"date\")\n",
    ")"
   ]
  },
  {
   "cell_type": "code",
   "execution_count": 64,
   "id": "0be2d2af",
   "metadata": {},
   "outputs": [],
   "source": [
    "loan_df = perf_small.join(orig_small, on='LOAN_SEQUENCE_NUMBER', how='left')"
   ]
  },
  {
   "cell_type": "code",
   "execution_count": 65,
   "id": "948936e2",
   "metadata": {},
   "outputs": [],
   "source": [
    "# How many loans are there in each month?\n",
    "result = loan_df.group_by(\"MONTHLY_REPORTING_PERIOD\").agg(\n",
    "    pl.len().alias('number_of_loans')\n",
    ").sort(\"MONTHLY_REPORTING_PERIOD\")"
   ]
  },
  {
   "cell_type": "code",
   "execution_count": 66,
   "id": "ff958acf",
   "metadata": {},
   "outputs": [],
   "source": [
    "loan_df = loan_df.with_columns(\n",
    "    # if zero balance code is 1 and zero balance effective data is before maturity date, then it is prepayment\n",
    "    pl.when((pl.col(\"ZERO_BALANCE_CODE\") == 1) & (pl.col(\"ZERO_BALANCE_EFFECTIVE_DATE\") < pl.col(\"MATURITY_DATE\")))\n",
    "    .then(pl.lit(1))\n",
    "    .otherwise(pl.lit(0)).alias(\"PREPAID\"),\n",
    "\n",
    "    pl.when(~pl.col(\"CURRENT_LOAN_DELINQUENCY_STATUS\").is_in([\"0\", \"RA\"]))\n",
    "    .then(pl.lit(1))\n",
    "    .otherwise(pl.lit(0))\n",
    "    .alias(\"DELINQUENT\")\n",
    "\n",
    ")"
   ]
  },
  {
   "cell_type": "code",
   "execution_count": 67,
   "id": "3899999e",
   "metadata": {},
   "outputs": [],
   "source": [
    "loan_df = (\n",
    "    loan_df.join(\n",
    "        orig_small.group_by(\"FIRST_PAYMENT_DATE\")\n",
    "        .agg(pl.mean(\"ORIGINAL_INTEREST_RATE\").alias(\"AVG_INTEREST_RATE\")),\n",
    "        left_on=\"MONTHLY_REPORTING_PERIOD\",\n",
    "        right_on=\"FIRST_PAYMENT_DATE\",\n",
    "        how=\"left\"\n",
    "    ).join(\n",
    "        unemp_data,\n",
    "        left_on = [\"MONTHLY_REPORTING_PERIOD\", \"PROPERTY_STATE\"],\n",
    "        right_on = [\"date\",'state']\n",
    "    )\n",
    ")"
   ]
  },
  {
   "cell_type": "code",
   "execution_count": 68,
   "id": "0f092956",
   "metadata": {},
   "outputs": [],
   "source": [
    "loan_df = loan_df.select(\n",
    "    \"LOAN_SEQUENCE_NUMBER\",\n",
    "    \"MONTHLY_REPORTING_PERIOD\",\n",
    "    \"ORIGINAL_LOAN_TERM\",\n",
    "    \"LOAN_AGE\",\n",
    "    \"PROPERTY_STATE\",\n",
    "    \"ORIGINAL_LOAN_TO_VALUE\",\n",
    "    \"ORIGINAL_DEBT_TO_INCOME\",\n",
    "    \"ESTIMATED_LOAN_TO_VALUE\",\n",
    "    \"CREDIT_SCORE\",\n",
    "    pl.col(\"unemp\",).alias('UNEMPLOYMENT'),\n",
    "    \"PREPAID\",\n",
    "    \"DELINQUENT\",\n",
    "    (pl.col(\"CURRENT_INTEREST_RATE\") - pl.col(\"AVG_INTEREST_RATE\")).alias(\"INTEREST_RATE_DIFF\"),\n",
    "    pl.col(\"FIRST_PAYMENT_DATE\").str.slice(0,4).alias('ORIGINATION_YEAR'),\n",
    "    pl.col(\"FIRST_PAYMENT_DATE\").str.slice(4,2).alias('ORIGINATION_MONTH')\n",
    ")"
   ]
  },
  {
   "cell_type": "code",
   "execution_count": 69,
   "id": "ae62687e",
   "metadata": {},
   "outputs": [],
   "source": [
    "loan_small = loan_df.head(5000).collect(engine = \"streaming\")"
   ]
  },
  {
   "cell_type": "code",
   "execution_count": 70,
   "id": "5839b340",
   "metadata": {},
   "outputs": [
    {
     "data": {
      "text/html": [
       "<div><style>\n",
       ".dataframe > thead > tr,\n",
       ".dataframe > tbody > tr {\n",
       "  text-align: right;\n",
       "  white-space: pre-wrap;\n",
       "}\n",
       "</style>\n",
       "<small>shape: (1, 15)</small><table border=\"1\" class=\"dataframe\"><thead><tr><th>NULL_LOAN_SEQUENCE_NUMBER</th><th>NULL_MONTHLY_REPORTING_PERIOD</th><th>NULL_ORIGINAL_LOAN_TERM</th><th>NULL_LOAN_AGE</th><th>NULL_PROPERTY_STATE</th><th>NULL_ORIGINAL_LOAN_TO_VALUE</th><th>NULL_ORIGINAL_DEBT_TO_INCOME</th><th>NULL_ESTIMATED_LOAN_TO_VALUE</th><th>NULL_CREDIT_SCORE</th><th>NULL_UNEMPLOYMENT</th><th>NULL_PREPAID</th><th>NULL_DELINQUENT</th><th>NULL_INTEREST_RATE_DIFF</th><th>NULL_ORIGINATION_YEAR</th><th>NULL_ORIGINATION_MONTH</th></tr><tr><td>u32</td><td>u32</td><td>u32</td><td>u32</td><td>u32</td><td>u32</td><td>u32</td><td>u32</td><td>u32</td><td>u32</td><td>u32</td><td>u32</td><td>u32</td><td>u32</td><td>u32</td></tr></thead><tbody><tr><td>0</td><td>0</td><td>0</td><td>0</td><td>0</td><td>0</td><td>0</td><td>4846</td><td>0</td><td>0</td><td>0</td><td>0</td><td>0</td><td>0</td><td>0</td></tr></tbody></table></div>"
      ],
      "text/plain": [
       "shape: (1, 15)\n",
       "┌───────────┬───────────┬───────────┬───────────┬───┬───────────┬───────────┬───────────┬──────────┐\n",
       "│ NULL_LOAN ┆ NULL_MONT ┆ NULL_ORIG ┆ NULL_LOAN ┆ … ┆ NULL_DELI ┆ NULL_INTE ┆ NULL_ORIG ┆ NULL_ORI │\n",
       "│ _SEQUENCE ┆ HLY_REPOR ┆ INAL_LOAN ┆ _AGE      ┆   ┆ NQUENT    ┆ REST_RATE ┆ INATION_Y ┆ GINATION │\n",
       "│ _NUMBER   ┆ TING_PERI ┆ _TERM     ┆ ---       ┆   ┆ ---       ┆ _DIFF     ┆ EAR       ┆ _MONTH   │\n",
       "│ ---       ┆ OD        ┆ ---       ┆ u32       ┆   ┆ u32       ┆ ---       ┆ ---       ┆ ---      │\n",
       "│ u32       ┆ ---       ┆ u32       ┆           ┆   ┆           ┆ u32       ┆ u32       ┆ u32      │\n",
       "│           ┆ u32       ┆           ┆           ┆   ┆           ┆           ┆           ┆          │\n",
       "╞═══════════╪═══════════╪═══════════╪═══════════╪═══╪═══════════╪═══════════╪═══════════╪══════════╡\n",
       "│ 0         ┆ 0         ┆ 0         ┆ 0         ┆ … ┆ 0         ┆ 0         ┆ 0         ┆ 0        │\n",
       "└───────────┴───────────┴───────────┴───────────┴───┴───────────┴───────────┴───────────┴──────────┘"
      ]
     },
     "execution_count": 70,
     "metadata": {},
     "output_type": "execute_result"
    }
   ],
   "source": [
    "# see number of nulls\n",
    "loan_small.select(\n",
    "    pl.all().is_null().sum().name.prefix('NULL_')\n",
    ")"
   ]
  },
  {
   "cell_type": "code",
   "execution_count": 71,
   "id": "1dee5dc2",
   "metadata": {},
   "outputs": [
    {
     "data": {
      "text/html": [
       "<div><style>\n",
       ".dataframe > thead > tr,\n",
       ".dataframe > tbody > tr {\n",
       "  text-align: right;\n",
       "  white-space: pre-wrap;\n",
       "}\n",
       "</style>\n",
       "<small>shape: (5, 15)</small><table border=\"1\" class=\"dataframe\"><thead><tr><th>LOAN_SEQUENCE_NUMBER</th><th>MONTHLY_REPORTING_PERIOD</th><th>ORIGINAL_LOAN_TERM</th><th>LOAN_AGE</th><th>PROPERTY_STATE</th><th>ORIGINAL_LOAN_TO_VALUE</th><th>ORIGINAL_DEBT_TO_INCOME</th><th>ESTIMATED_LOAN_TO_VALUE</th><th>CREDIT_SCORE</th><th>UNEMPLOYMENT</th><th>PREPAID</th><th>DELINQUENT</th><th>INTEREST_RATE_DIFF</th><th>ORIGINATION_YEAR</th><th>ORIGINATION_MONTH</th></tr><tr><td>str</td><td>str</td><td>f64</td><td>f64</td><td>str</td><td>f64</td><td>f64</td><td>f64</td><td>f64</td><td>f64</td><td>i32</td><td>i32</td><td>f64</td><td>str</td><td>str</td></tr></thead><tbody><tr><td>&quot;F01Q20167818&quot;</td><td>&quot;200302&quot;</td><td>180.0</td><td>20.0</td><td>&quot;PA&quot;</td><td>80.0</td><td>30.0</td><td>null</td><td>788.0</td><td>5.8</td><td>0</td><td>0</td><td>0.556291</td><td>&quot;2001&quot;</td><td>&quot;07&quot;</td></tr><tr><td>&quot;F01Q20167953&quot;</td><td>&quot;200302&quot;</td><td>180.0</td><td>20.0</td><td>&quot;PA&quot;</td><td>73.0</td><td>51.0</td><td>null</td><td>785.0</td><td>5.8</td><td>0</td><td>0</td><td>0.181291</td><td>&quot;2001&quot;</td><td>&quot;07&quot;</td></tr><tr><td>&quot;F01Q20170044&quot;</td><td>&quot;200402&quot;</td><td>180.0</td><td>32.0</td><td>&quot;CA&quot;</td><td>47.0</td><td>50.0</td><td>null</td><td>715.0</td><td>6.5</td><td>0</td><td>0</td><td>1.006293</td><td>&quot;2001&quot;</td><td>&quot;07&quot;</td></tr><tr><td>&quot;F01Q20170962&quot;</td><td>&quot;201312&quot;</td><td>180.0</td><td>151.0</td><td>&quot;IL&quot;</td><td>86.0</td><td>36.0</td><td>null</td><td>644.0</td><td>8.5</td><td>0</td><td>0</td><td>1.535684</td><td>&quot;2001&quot;</td><td>&quot;06&quot;</td></tr><tr><td>&quot;F01Q20175134&quot;</td><td>&quot;200509&quot;</td><td>120.0</td><td>52.0</td><td>&quot;KY&quot;</td><td>41.0</td><td>24.0</td><td>null</td><td>725.0</td><td>6.0</td><td>0</td><td>0</td><td>1.017969</td><td>&quot;2001&quot;</td><td>&quot;06&quot;</td></tr></tbody></table></div>"
      ],
      "text/plain": [
       "shape: (5, 15)\n",
       "┌───────────┬───────────┬───────────┬──────────┬───┬───────────┬───────────┬───────────┬───────────┐\n",
       "│ LOAN_SEQU ┆ MONTHLY_R ┆ ORIGINAL_ ┆ LOAN_AGE ┆ … ┆ DELINQUEN ┆ INTEREST_ ┆ ORIGINATI ┆ ORIGINATI │\n",
       "│ ENCE_NUMB ┆ EPORTING_ ┆ LOAN_TERM ┆ ---      ┆   ┆ T         ┆ RATE_DIFF ┆ ON_YEAR   ┆ ON_MONTH  │\n",
       "│ ER        ┆ PERIOD    ┆ ---       ┆ f64      ┆   ┆ ---       ┆ ---       ┆ ---       ┆ ---       │\n",
       "│ ---       ┆ ---       ┆ f64       ┆          ┆   ┆ i32       ┆ f64       ┆ str       ┆ str       │\n",
       "│ str       ┆ str       ┆           ┆          ┆   ┆           ┆           ┆           ┆           │\n",
       "╞═══════════╪═══════════╪═══════════╪══════════╪═══╪═══════════╪═══════════╪═══════════╪═══════════╡\n",
       "│ F01Q20167 ┆ 200302    ┆ 180.0     ┆ 20.0     ┆ … ┆ 0         ┆ 0.556291  ┆ 2001      ┆ 07        │\n",
       "│ 818       ┆           ┆           ┆          ┆   ┆           ┆           ┆           ┆           │\n",
       "│ F01Q20167 ┆ 200302    ┆ 180.0     ┆ 20.0     ┆ … ┆ 0         ┆ 0.181291  ┆ 2001      ┆ 07        │\n",
       "│ 953       ┆           ┆           ┆          ┆   ┆           ┆           ┆           ┆           │\n",
       "│ F01Q20170 ┆ 200402    ┆ 180.0     ┆ 32.0     ┆ … ┆ 0         ┆ 1.006293  ┆ 2001      ┆ 07        │\n",
       "│ 044       ┆           ┆           ┆          ┆   ┆           ┆           ┆           ┆           │\n",
       "│ F01Q20170 ┆ 201312    ┆ 180.0     ┆ 151.0    ┆ … ┆ 0         ┆ 1.535684  ┆ 2001      ┆ 06        │\n",
       "│ 962       ┆           ┆           ┆          ┆   ┆           ┆           ┆           ┆           │\n",
       "│ F01Q20175 ┆ 200509    ┆ 120.0     ┆ 52.0     ┆ … ┆ 0         ┆ 1.017969  ┆ 2001      ┆ 06        │\n",
       "│ 134       ┆           ┆           ┆          ┆   ┆           ┆           ┆           ┆           │\n",
       "└───────────┴───────────┴───────────┴──────────┴───┴───────────┴───────────┴───────────┴───────────┘"
      ]
     },
     "execution_count": 71,
     "metadata": {},
     "output_type": "execute_result"
    }
   ],
   "source": [
    "loan_small.head()"
   ]
  },
  {
   "cell_type": "code",
   "execution_count": null,
   "id": "5bf26def",
   "metadata": {},
   "outputs": [],
   "source": [
    "loan_df = loan_df.select(\n",
    "    pl.all().exclude(\"ESTIMATED_LOAN_TO_VALUE\") # get rid of this because of too many NAs\n",
    ")"
   ]
  },
  {
   "cell_type": "code",
   "execution_count": null,
   "id": "7203acbd",
   "metadata": {},
   "outputs": [],
   "source": [
    "# Path for output\n",
    "output_file = f\"{basepath}/loan_data.parquet\"\n",
    "\n",
    "# Use the lazy frame to write to Parquet in streaming mode\n",
    "loan_df.sink_parquet(output_file, compression=\"snappy\", row_group_size=500_000)"
   ]
  }
 ],
 "metadata": {
  "kernelspec": {
   "display_name": "base",
   "language": "python",
   "name": "python3"
  },
  "language_info": {
   "codemirror_mode": {
    "name": "ipython",
    "version": 3
   },
   "file_extension": ".py",
   "mimetype": "text/x-python",
   "name": "python",
   "nbconvert_exporter": "python",
   "pygments_lexer": "ipython3",
   "version": "3.11.4"
  }
 },
 "nbformat": 4,
 "nbformat_minor": 5
}
